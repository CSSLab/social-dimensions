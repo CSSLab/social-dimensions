{
 "cells": [
  {
   "cell_type": "code",
   "execution_count": 1,
   "metadata": {},
   "outputs": [],
   "source": [
    "%load_ext autoreload\n",
    "%autoreload 2\n",
    "\n",
    "import sys\n",
    "import os\n",
    "sys.path.append(\".\")\n",
    "import dimen_generation"
   ]
  },
  {
   "cell_type": "code",
   "execution_count": 2,
   "metadata": {},
   "outputs": [],
   "source": [
    "# Load community embedding\n",
    "vectors, metadata = dimen_generation.load_embedding()"
   ]
  },
  {
   "cell_type": "code",
   "execution_count": null,
   "metadata": {},
   "outputs": [],
   "source": [
    "# Compute all pairs of similar communities\n",
    "dimen_generator = dimen_generation.DimenGenerator(vectors)"
   ]
  },
  {
   "cell_type": "code",
   "execution_count": null,
   "metadata": {},
   "outputs": [],
   "source": [
    "# Generate dimensions through seed augmentation\n",
    "dimensions = dimen_generator.generate_dimensions_from_seeds([\n",
    "    (\"teenagers\", \"RedditForGrownups\"),\n",
    "    (\"AskMen\", \"AskWomen\"),\n",
    "    (\"democrats\", \"Conservative\"),\n",
    "    (\"vagabond\", \"backpacking\"),\n",
    "    (\"AskMen\", \"AskMenOver30\"),\n",
    "    (\"daddit\", \"Mommit\"),\n",
    "    (\"hillaryclinton\", \"The_Donald\"),\n",
    "    (\"nyc\", \"nycmeetups\"),\n",
    "    (\"memes\", \"ImGoingToHellForThis\"),\n",
    "    (\"PS3\", \"PS4\")\n",
    "])"
   ]
  },
  {
   "cell_type": "code",
   "execution_count": null,
   "metadata": {},
   "outputs": [],
   "source": [
    "# Print which seeds were found\n",
    "dimen_names = [\"age\", \"gender\", \"partisan\", \"affluence\", \"age B\", \"gender B\", \"partisan B\", \"sociality\", \"edginess\", \"time\"]\n",
    "\n",
    "for name, dimen in zip(dimen_names, dimensions):\n",
    "    print(\"Dimension %s:\" % name)\n",
    "    print(\"\\tSeed: %s\" % dimen[\"seed\"])\n",
    "    print(\"\\tFound seeds:\")\n",
    "    for c1, c2 in zip(dimen[\"left_comms\"], dimen[\"right_comms\"]):\n",
    "        print(\"\\t\\t%s -> %s\" % (c1, c2))"
   ]
  },
  {
   "cell_type": "code",
   "execution_count": null,
   "metadata": {},
   "outputs": [],
   "source": [
    "# Calculate scores for communities\n",
    "scores = dimen_generation.score_embedding(vectors, zip(dimen_names, dimensions))\n",
    "scores.head(5)"
   ]
  },
  {
   "cell_type": "code",
   "execution_count": null,
   "metadata": {},
   "outputs": [],
   "source": [
    "# Save result (compare with scores.csv from repository)\n",
    "scores.to_csv('scores.csv')"
   ]
  }
 ],
 "metadata": {
  "kernelspec": {
   "display_name": "condakernel",
   "language": "python",
   "name": "condakernel"
  },
  "language_info": {
   "codemirror_mode": {
    "name": "ipython",
    "version": 3
   },
   "file_extension": ".py",
   "mimetype": "text/x-python",
   "name": "python",
   "nbconvert_exporter": "python",
   "pygments_lexer": "ipython3",
   "version": "3.7.4"
  }
 },
 "nbformat": 4,
 "nbformat_minor": 2
}
