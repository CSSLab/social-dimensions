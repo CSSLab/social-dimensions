{
 "cells": [
  {
   "cell_type": "markdown",
   "metadata": {},
   "source": [
    "* Calculate explained/attributable polarization from activity data"
   ]
  },
  {
   "cell_type": "code",
   "execution_count": 2,
   "metadata": {},
   "outputs": [],
   "source": [
    "partisan_dimen = \"partisan\""
   ]
  },
  {
   "cell_type": "code",
   "execution_count": 3,
   "metadata": {},
   "outputs": [
    {
     "name": "stderr",
     "output_type": "stream",
     "text": [
      "In /u/walleris/miniconda3/lib/python3.7/site-packages/matplotlib/mpl-data/stylelib/_classic_test.mplstyle: \n",
      "The text.latex.preview rcparam was deprecated in Matplotlib 3.3 and will be removed two minor releases later.\n",
      "In /u/walleris/miniconda3/lib/python3.7/site-packages/matplotlib/mpl-data/stylelib/_classic_test.mplstyle: \n",
      "The mathtext.fallback_to_cm rcparam was deprecated in Matplotlib 3.3 and will be removed two minor releases later.\n",
      "In /u/walleris/miniconda3/lib/python3.7/site-packages/matplotlib/mpl-data/stylelib/_classic_test.mplstyle: Support for setting the 'mathtext.fallback_to_cm' rcParam is deprecated since 3.3 and will be removed two minor releases later; use 'mathtext.fallback : 'cm' instead.\n",
      "In /u/walleris/miniconda3/lib/python3.7/site-packages/matplotlib/mpl-data/stylelib/_classic_test.mplstyle: \n",
      "The validate_bool_maybe_none function was deprecated in Matplotlib 3.3 and will be removed two minor releases later.\n",
      "In /u/walleris/miniconda3/lib/python3.7/site-packages/matplotlib/mpl-data/stylelib/_classic_test.mplstyle: \n",
      "The savefig.jpeg_quality rcparam was deprecated in Matplotlib 3.3 and will be removed two minor releases later.\n",
      "In /u/walleris/miniconda3/lib/python3.7/site-packages/matplotlib/mpl-data/stylelib/_classic_test.mplstyle: \n",
      "The keymap.all_axes rcparam was deprecated in Matplotlib 3.3 and will be removed two minor releases later.\n",
      "In /u/walleris/miniconda3/lib/python3.7/site-packages/matplotlib/mpl-data/stylelib/_classic_test.mplstyle: \n",
      "The animation.avconv_path rcparam was deprecated in Matplotlib 3.3 and will be removed two minor releases later.\n",
      "In /u/walleris/miniconda3/lib/python3.7/site-packages/matplotlib/mpl-data/stylelib/_classic_test.mplstyle: \n",
      "The animation.avconv_args rcparam was deprecated in Matplotlib 3.3 and will be removed two minor releases later.\n",
      "/u/walleris/miniconda3/lib/python3.7/site-packages/tqdm/std.py:648: FutureWarning: The Panel class is removed from pandas. Accessing it from the top-level namespace will also be removed in the next version\n",
      "  from pandas import Panel\n"
     ]
    },
    {
     "name": "stdout",
     "output_type": "stream",
     "text": [
      "Spark WebUI: http://ada.ais.sandbox:4048\n",
      "Spark WebUI: http://ada.ais.sandbox:4048\n"
     ]
    }
   ],
   "source": [
    "import sys\n",
    "import os\n",
    "sys.path.append(\"..\")\n",
    "from commembed.jupyter import *\n",
    "import commembed.linalg as linalg\n",
    "import commembed.dimens as dimens\n",
    "import numpy as np\n",
    "import pandas as pd\n",
    "import matplotlib.pyplot as plt\n",
    "import datetime\n",
    "from tqdm.notebook import tqdm\n",
    "tqdm.pandas()\n",
    "%config InlineBackend.figure_format = 'retina'\n",
    "%config InlineBackend.print_figure_kwargs={'facecolor' : \"w\"}\n",
    "from pyspark.sql.functions import *\n",
    "\n",
    "import commembed.data as data\n",
    "import commembed.analysis as analysis\n",
    "\n",
    "\n",
    "spark = data.spark_context()\n",
    "\n",
    "%load_ext autoreload\n",
    "%autoreload 2"
   ]
  },
  {
   "cell_type": "code",
   "execution_count": null,
   "metadata": {},
   "outputs": [],
   "source": [
    "activity_data = data.load(f\"{partisan_dimen}_activity_data_12mo\")\n",
    "\n",
    "scores_dfs = []\n",
    "for cat in [\"all\",\"left\",\"right\"]:\n",
    "    df, _ = load_abs_z_df(partisan_dimen, political_activity_category=cat)\n",
    "    df[\"category\"] = cat\n",
    "    scores_dfs.append(df.reset_index())\n",
    "    \n",
    "scores = pd.concat(scores_dfs)\n",
    "scores_df = spark.createDataFrame(scores.reset_index())\n",
    "scores_df.createOrReplaceTempView(\"scores\")"
   ]
  },
  {
   "cell_type": "code",
   "execution_count": 5,
   "metadata": {},
   "outputs": [
    {
     "data": {
      "text/html": [
       "<div>\n",
       "<style scoped>\n",
       "    .dataframe tbody tr th:only-of-type {\n",
       "        vertical-align: middle;\n",
       "    }\n",
       "\n",
       "    .dataframe tbody tr th {\n",
       "        vertical-align: top;\n",
       "    }\n",
       "\n",
       "    .dataframe thead th {\n",
       "        text-align: right;\n",
       "    }\n",
       "</style>\n",
       "<table border=\"1\" class=\"dataframe\">\n",
       "  <thead>\n",
       "    <tr style=\"text-align: right;\">\n",
       "      <th></th>\n",
       "      <th>category</th>\n",
       "      <th>month</th>\n",
       "      <th>is_new</th>\n",
       "      <th>abs_z_sum</th>\n",
       "      <th>num_comments</th>\n",
       "    </tr>\n",
       "  </thead>\n",
       "  <tbody>\n",
       "    <tr>\n",
       "      <th>0</th>\n",
       "      <td>all</td>\n",
       "      <td>2016-04</td>\n",
       "      <td>False</td>\n",
       "      <td>6.672315e+06</td>\n",
       "      <td>4359667</td>\n",
       "    </tr>\n",
       "    <tr>\n",
       "      <th>1</th>\n",
       "      <td>left</td>\n",
       "      <td>2016-05</td>\n",
       "      <td>True</td>\n",
       "      <td>1.574264e+06</td>\n",
       "      <td>944591</td>\n",
       "    </tr>\n",
       "    <tr>\n",
       "      <th>2</th>\n",
       "      <td>left</td>\n",
       "      <td>2012-08</td>\n",
       "      <td>False</td>\n",
       "      <td>5.538132e+05</td>\n",
       "      <td>431489</td>\n",
       "    </tr>\n",
       "    <tr>\n",
       "      <th>3</th>\n",
       "      <td>all</td>\n",
       "      <td>2013-12</td>\n",
       "      <td>False</td>\n",
       "      <td>1.738040e+06</td>\n",
       "      <td>1495170</td>\n",
       "    </tr>\n",
       "    <tr>\n",
       "      <th>4</th>\n",
       "      <td>all</td>\n",
       "      <td>2018-02</td>\n",
       "      <td>False</td>\n",
       "      <td>9.404917e+06</td>\n",
       "      <td>6327787</td>\n",
       "    </tr>\n",
       "  </tbody>\n",
       "</table>\n",
       "</div>"
      ],
      "text/plain": [
       "  category    month  is_new     abs_z_sum  num_comments\n",
       "0      all  2016-04   False  6.672315e+06       4359667\n",
       "1     left  2016-05    True  1.574264e+06        944591\n",
       "2     left  2012-08   False  5.538132e+05        431489\n",
       "3      all  2013-12   False  1.738040e+06       1495170\n",
       "4      all  2018-02   False  9.404917e+06       6327787"
      ]
     },
     "execution_count": 5,
     "metadata": {},
     "output_type": "execute_result"
    }
   ],
   "source": [
    "agg_activity = activity_data.join(scores_df, scores_df[\"community\"] == activity_data[\"subreddit\"])\n",
    "agg_activity = agg_activity.groupBy([\"category\", \"month\", (col(\"last_month_user_bin\") == 5).alias(\"is_new\")]).agg(\n",
    "    sum(col(\"partisan_dimen\") * col(\"num_comments\")).alias(\"abs_z_sum\"), sum(col(\"num_comments\")).alias(\"num_comments\"))\n",
    "\n",
    "agg_activity = agg_activity.toPandas()\n",
    "agg_activity.head(5)"
   ]
  },
  {
   "cell_type": "code",
   "execution_count": 46,
   "metadata": {},
   "outputs": [],
   "source": [
    "import seaborn as sns\n",
    "\n",
    "def calculate_explained_polarization(category, agg_by_year=True):\n",
    "    \n",
    "    to_plot = agg_activity[agg_activity[\"category\"] == category].drop(columns=['category'])\n",
    "    \n",
    "    agg_by_year = True\n",
    "    if agg_by_year:\n",
    "        to_plot[\"year\"] = to_plot[\"month\"].str.slice(0,4)\n",
    "        to_plot = to_plot.groupby(['year', 'is_new']).agg('sum')\n",
    "        to_plot = to_plot.reset_index().rename(columns={\"year\": \"month\"})\n",
    "\n",
    "    months = sorted(to_plot[\"month\"].unique())\n",
    "\n",
    "    to_plot = to_plot.set_index([\"month\", \"is_new\"])\n",
    "    \n",
    "\n",
    "    result = []\n",
    "    stride = 1 if agg_by_year else 12\n",
    "    for last_month, month in zip(months[:-stride], months[stride:]):\n",
    "\n",
    "        total_comments = (to_plot.loc[(month, True), \"num_comments\"] + to_plot.loc[(month, False), \"num_comments\"])\n",
    "\n",
    "        actual = (to_plot.loc[(month, True), \"abs_z_sum\"] + to_plot.loc[(month, False), \"abs_z_sum\"]) / \\\n",
    "            total_comments\n",
    "\n",
    "        last_actual = (to_plot.loc[(last_month, True), \"abs_z_sum\"] + to_plot.loc[(last_month, False), \"abs_z_sum\"]) / \\\n",
    "            (to_plot.loc[(last_month, True), \"num_comments\"] + to_plot.loc[(last_month, False), \"num_comments\"])\n",
    "\n",
    "        # change in polarization between new this month and overall last month\n",
    "        change_for_new = (to_plot.loc[(month, True), \"abs_z_sum\"] / to_plot.loc[(month, True), \"num_comments\"]) - \\\n",
    "            last_actual\n",
    "        \n",
    "        # change in polarization between old this month and overall last month\n",
    "        change_for_old = (to_plot.loc[(month, False), \"abs_z_sum\"] / to_plot.loc[(month, False), \"num_comments\"]) - \\\n",
    "            last_actual\n",
    "\n",
    "        static_old = ((to_plot.loc[(month, True), \"num_comments\"]) / total_comments) * change_for_new\n",
    "        static_new = ((to_plot.loc[(month, False), \"num_comments\"]) / total_comments) * change_for_old\n",
    "\n",
    "        result.append({\n",
    "            \"month\": month,\n",
    "            \"total_comments\": total_comments,\n",
    "            \"proportion_new\": to_plot.loc[(month, True), \"num_comments\"]/total_comments,\n",
    "\n",
    "            \"actual\": (actual-last_actual),\n",
    "            \"static_new\": (static_new),\n",
    "            \"static_old\": (static_old),\n",
    "            \"sum\":(static_new)+(static_old)\n",
    "        })\n",
    "    \n",
    "    \n",
    "    result = pd.DataFrame(result)\n",
    "    result[\"year\"] = result[\"month\"].str.slice(0,4)\n",
    "\n",
    "    result = result.set_index(\"month\").sort_index(axis=1)\n",
    "    \n",
    "    if agg_by_year:\n",
    "        result.index.name = \"year\"\n",
    "        \n",
    "    return result\n",
    "\n",
    "for cat in [\"all\",\"left\",\"right\"]:\n",
    "    result = calculate_explained_polarization(cat)\n",
    "    result.to_csv(os.path.join(data.DATA_PATH, \"explained_polarization_%s_%s.csv\" % (partisan_dimen, cat)), index=True)"
   ]
  },
  {
   "cell_type": "code",
   "execution_count": 45,
   "metadata": {},
   "outputs": [
    {
     "data": {
      "image/png": "[encoded data removed]",
      "text/plain": [
       "<Figure size 288x288 with 1 Axes>"
      ]
     },
     "metadata": {
      "image/png": {
       "height": 274,
       "width": 277
      },
      "needs_background": "light"
     },
     "output_type": "display_data"
    },
    {
     "name": "stderr",
     "output_type": "stream",
     "text": [
      "/u/walleris/miniconda3/lib/python3.7/site-packages/pandas/plotting/_matplotlib/core.py:1182: UserWarning: FixedFormatter should only be used together with FixedLocator\n",
      "  ax.set_xticklabels(xticklabels)\n"
     ]
    },
    {
     "data": {
      "image/png": "[encoded data removed]",
      "text/plain": [
       "<Figure size 288x288 with 1 Axes>"
      ]
     },
     "metadata": {
      "image/png": {
       "height": 272,
       "width": 267
      },
      "needs_background": "light"
     },
     "output_type": "display_data"
    }
   ],
   "source": [
    "result = calculate_explained_polarization(\"right\", agg_by_year=True)\n",
    "\n",
    "plt.figure(figsize=(4,4))\n",
    "ax = plt.gca()\n",
    "ax.axhline(0, linewidth=2, linestyle='--', color='#aaaaaa', label='_nolegend_')\n",
    "\n",
    "colors = sns.color_palette()\n",
    "result[['actual','static_new','static_old', 'sum']].plot.bar(figsize=(4,4), color=['black']+colors[:2], ax=ax)\n",
    "ax.set_xlabel(\"Year\")\n",
    "ax.set_ylabel(\"Change in polarization\")\n",
    "ax.legend([\n",
    "    \"$\\Delta b_e + \\Delta b_n$\",\n",
    "    \"$\\Delta b_e$\",\n",
    "    \"$\\Delta b_n$\"\n",
    "])\n",
    "#plt.savefig('draft-explained-polarization.pdf', bbox_inches='tight')\n",
    "plt.show()\n",
    "\n",
    "plt.figure(figsize=(4,4))\n",
    "(result['actual']-result['sum']).plot.line()\n",
    "plt.grid()"
   ]
  },
  {
   "cell_type": "code",
   "execution_count": 8,
   "metadata": {},
   "outputs": [
    {
     "data": {
      "text/html": [
       "<div>\n",
       "<style scoped>\n",
       "    .dataframe tbody tr th:only-of-type {\n",
       "        vertical-align: middle;\n",
       "    }\n",
       "\n",
       "    .dataframe tbody tr th {\n",
       "        vertical-align: top;\n",
       "    }\n",
       "\n",
       "    .dataframe thead th {\n",
       "        text-align: right;\n",
       "    }\n",
       "</style>\n",
       "<table border=\"1\" class=\"dataframe\">\n",
       "  <thead>\n",
       "    <tr style=\"text-align: right;\">\n",
       "      <th></th>\n",
       "      <th>total_comments</th>\n",
       "      <th>proportion_new</th>\n",
       "      <th>actual</th>\n",
       "      <th>static_new</th>\n",
       "      <th>static_old</th>\n",
       "      <th>sum</th>\n",
       "    </tr>\n",
       "    <tr>\n",
       "      <th>year</th>\n",
       "      <th></th>\n",
       "      <th></th>\n",
       "      <th></th>\n",
       "      <th></th>\n",
       "      <th></th>\n",
       "      <th></th>\n",
       "    </tr>\n",
       "  </thead>\n",
       "  <tbody>\n",
       "    <tr>\n",
       "      <th>2013</th>\n",
       "      <td>6807690.0</td>\n",
       "      <td>5.802141</td>\n",
       "      <td>-0.140136</td>\n",
       "      <td>-0.055526</td>\n",
       "      <td>-0.083708</td>\n",
       "      <td>-0.139234</td>\n",
       "    </tr>\n",
       "    <tr>\n",
       "      <th>2014</th>\n",
       "      <td>9728412.0</td>\n",
       "      <td>5.367151</td>\n",
       "      <td>-0.029454</td>\n",
       "      <td>-0.003849</td>\n",
       "      <td>-0.023217</td>\n",
       "      <td>-0.027066</td>\n",
       "    </tr>\n",
       "    <tr>\n",
       "      <th>2015</th>\n",
       "      <td>13569936.0</td>\n",
       "      <td>5.099656</td>\n",
       "      <td>0.090799</td>\n",
       "      <td>0.016443</td>\n",
       "      <td>0.075934</td>\n",
       "      <td>0.092377</td>\n",
       "    </tr>\n",
       "    <tr>\n",
       "      <th>2016</th>\n",
       "      <td>24009667.0</td>\n",
       "      <td>5.290774</td>\n",
       "      <td>1.071138</td>\n",
       "      <td>0.477917</td>\n",
       "      <td>0.592358</td>\n",
       "      <td>1.070275</td>\n",
       "    </tr>\n",
       "    <tr>\n",
       "      <th>2017</th>\n",
       "      <td>29003214.0</td>\n",
       "      <td>5.077053</td>\n",
       "      <td>0.074072</td>\n",
       "      <td>0.041510</td>\n",
       "      <td>0.019586</td>\n",
       "      <td>0.061097</td>\n",
       "    </tr>\n",
       "    <tr>\n",
       "      <th>2018</th>\n",
       "      <td>26210318.0</td>\n",
       "      <td>4.081147</td>\n",
       "      <td>-0.053897</td>\n",
       "      <td>0.014252</td>\n",
       "      <td>-0.097195</td>\n",
       "      <td>-0.082944</td>\n",
       "    </tr>\n",
       "  </tbody>\n",
       "</table>\n",
       "</div>"
      ],
      "text/plain": [
       "      total_comments  proportion_new    actual  static_new  static_old  \\\n",
       "year                                                                     \n",
       "2013       6807690.0        5.802141 -0.140136   -0.055526   -0.083708   \n",
       "2014       9728412.0        5.367151 -0.029454   -0.003849   -0.023217   \n",
       "2015      13569936.0        5.099656  0.090799    0.016443    0.075934   \n",
       "2016      24009667.0        5.290774  1.071138    0.477917    0.592358   \n",
       "2017      29003214.0        5.077053  0.074072    0.041510    0.019586   \n",
       "2018      26210318.0        4.081147 -0.053897    0.014252   -0.097195   \n",
       "\n",
       "           sum  \n",
       "year            \n",
       "2013 -0.139234  \n",
       "2014 -0.027066  \n",
       "2015  0.092377  \n",
       "2016  1.070275  \n",
       "2017  0.061097  \n",
       "2018 -0.082944  "
      ]
     },
     "execution_count": 8,
     "metadata": {},
     "output_type": "execute_result"
    }
   ],
   "source": [
    "result"
   ]
  }
 ],
 "metadata": {
  "kernelspec": {
   "display_name": "condakernel",
   "language": "python",
   "name": "condakernel"
  },
  "language_info": {
   "codemirror_mode": {
    "name": "ipython",
    "version": 3
   },
   "file_extension": ".py",
   "mimetype": "text/x-python",
   "name": "python",
   "nbconvert_exporter": "python",
   "pygments_lexer": "ipython3",
   "version": "3.7.4"
  }
 },
 "nbformat": 4,
 "nbformat_minor": 2
}
